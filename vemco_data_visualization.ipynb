{
 "cells": [
  {
   "cell_type": "code",
   "execution_count": 1,
   "metadata": {},
   "outputs": [],
   "source": [
    "#\n",
    "# This will be used to visualize the data taken by the Vemco Rx-Live Receiver \n",
    "# Data taken using Putty\n",
    "#"
   ]
  },
  {
   "cell_type": "code",
   "execution_count": 2,
   "metadata": {},
   "outputs": [],
   "source": [
    "# libraries\n",
    "import numpy as np\n",
    "import pandas as pd\n",
    "\n",
    "%matplotlib inline\n",
    "import matplotlib.pyplot as plt\n",
    "import seaborn as sns\n",
    "sns.set(style=\"darkgrid\")"
   ]
  },
  {
   "cell_type": "code",
   "execution_count": 3,
   "metadata": {},
   "outputs": [
    {
     "name": "stdout",
     "output_type": "stream",
     "text": [
      "sensor_data.csv : file read into a pandas dataframe.\n"
     ]
    }
   ],
   "source": [
    "# Read in the data\n",
    "# \n",
    "# for read_csv, use header=0 when row 0 is a header row \n",
    "\n",
    "filename = 'sensor_data.csv'\n",
    "df = pd.read_csv(filename, header=0)   # read the file w/header row #0\n",
    "print(f\"{filename} : file read into a pandas dataframe.\")"
   ]
  },
  {
   "cell_type": "code",
   "execution_count": 4,
   "metadata": {},
   "outputs": [
    {
     "data": {
      "text/html": [
       "<div>\n",
       "<style scoped>\n",
       "    .dataframe tbody tr th:only-of-type {\n",
       "        vertical-align: middle;\n",
       "    }\n",
       "\n",
       "    .dataframe tbody tr th {\n",
       "        vertical-align: top;\n",
       "    }\n",
       "\n",
       "    .dataframe thead th {\n",
       "        text-align: right;\n",
       "    }\n",
       "</style>\n",
       "<table border=\"1\" class=\"dataframe\">\n",
       "  <thead>\n",
       "    <tr style=\"text-align: right;\">\n",
       "      <th></th>\n",
       "      <th>Sensor Tag</th>\n",
       "      <th>ID Number</th>\n",
       "      <th>Signal</th>\n",
       "      <th>Noise</th>\n",
       "      <th>Distance (m)</th>\n",
       "    </tr>\n",
       "  </thead>\n",
       "  <tbody>\n",
       "    <tr>\n",
       "      <th>0</th>\n",
       "      <td>457012</td>\n",
       "      <td>65477</td>\n",
       "      <td>82.0</td>\n",
       "      <td>26.5</td>\n",
       "      <td>1.000</td>\n",
       "    </tr>\n",
       "    <tr>\n",
       "      <th>1</th>\n",
       "      <td>457012</td>\n",
       "      <td>65477</td>\n",
       "      <td>82.0</td>\n",
       "      <td>26.5</td>\n",
       "      <td>1.000</td>\n",
       "    </tr>\n",
       "    <tr>\n",
       "      <th>2</th>\n",
       "      <td>457012</td>\n",
       "      <td>65477</td>\n",
       "      <td>82.5</td>\n",
       "      <td>26.5</td>\n",
       "      <td>1.000</td>\n",
       "    </tr>\n",
       "    <tr>\n",
       "      <th>3</th>\n",
       "      <td>457012</td>\n",
       "      <td>65477</td>\n",
       "      <td>82.0</td>\n",
       "      <td>26.5</td>\n",
       "      <td>1.000</td>\n",
       "    </tr>\n",
       "    <tr>\n",
       "      <th>4</th>\n",
       "      <td>457012</td>\n",
       "      <td>65477</td>\n",
       "      <td>82.0</td>\n",
       "      <td>26.5</td>\n",
       "      <td>1.000</td>\n",
       "    </tr>\n",
       "    <tr>\n",
       "      <th>...</th>\n",
       "      <td>...</td>\n",
       "      <td>...</td>\n",
       "      <td>...</td>\n",
       "      <td>...</td>\n",
       "      <td>...</td>\n",
       "    </tr>\n",
       "    <tr>\n",
       "      <th>111</th>\n",
       "      <td>457012</td>\n",
       "      <td>65478</td>\n",
       "      <td>82.0</td>\n",
       "      <td>25.0</td>\n",
       "      <td>4.918</td>\n",
       "    </tr>\n",
       "    <tr>\n",
       "      <th>112</th>\n",
       "      <td>457012</td>\n",
       "      <td>65478</td>\n",
       "      <td>82.0</td>\n",
       "      <td>24.5</td>\n",
       "      <td>4.918</td>\n",
       "    </tr>\n",
       "    <tr>\n",
       "      <th>113</th>\n",
       "      <td>457012</td>\n",
       "      <td>65478</td>\n",
       "      <td>82.5</td>\n",
       "      <td>24.5</td>\n",
       "      <td>4.918</td>\n",
       "    </tr>\n",
       "    <tr>\n",
       "      <th>114</th>\n",
       "      <td>457012</td>\n",
       "      <td>65478</td>\n",
       "      <td>82.0</td>\n",
       "      <td>24.5</td>\n",
       "      <td>4.918</td>\n",
       "    </tr>\n",
       "    <tr>\n",
       "      <th>115</th>\n",
       "      <td>457012</td>\n",
       "      <td>65478</td>\n",
       "      <td>82.0</td>\n",
       "      <td>24.5</td>\n",
       "      <td>4.918</td>\n",
       "    </tr>\n",
       "  </tbody>\n",
       "</table>\n",
       "<p>116 rows × 5 columns</p>\n",
       "</div>"
      ],
      "text/plain": [
       "     Sensor Tag  ID Number  Signal  Noise  Distance (m)\n",
       "0        457012      65477    82.0   26.5         1.000\n",
       "1        457012      65477    82.0   26.5         1.000\n",
       "2        457012      65477    82.5   26.5         1.000\n",
       "3        457012      65477    82.0   26.5         1.000\n",
       "4        457012      65477    82.0   26.5         1.000\n",
       "..          ...        ...     ...    ...           ...\n",
       "111      457012      65478    82.0   25.0         4.918\n",
       "112      457012      65478    82.0   24.5         4.918\n",
       "113      457012      65478    82.5   24.5         4.918\n",
       "114      457012      65478    82.0   24.5         4.918\n",
       "115      457012      65478    82.0   24.5         4.918\n",
       "\n",
       "[116 rows x 5 columns]"
      ]
     },
     "execution_count": 4,
     "metadata": {},
     "output_type": "execute_result"
    }
   ],
   "source": [
    "pd.set_option('display.max_rows', 10)  # None for no limit; default: 10\n",
    "pd.set_option('display.min_rows', 10)  # None for no limit; default: 10\n",
    "\n",
    "# Let's view it\n",
    "df"
   ]
  },
  {
   "cell_type": "code",
   "execution_count": 5,
   "metadata": {},
   "outputs": [
    {
     "name": "stdout",
     "output_type": "stream",
     "text": [
      "<class 'pandas.core.frame.DataFrame'>\n",
      "RangeIndex: 116 entries, 0 to 115\n",
      "Data columns (total 5 columns):\n",
      " #   Column        Non-Null Count  Dtype  \n",
      "---  ------        --------------  -----  \n",
      " 0   Sensor Tag    116 non-null    int64  \n",
      " 1   ID Number     116 non-null    int64  \n",
      " 2   Signal        116 non-null    float64\n",
      " 3   Noise         116 non-null    float64\n",
      " 4   Distance (m)  116 non-null    float64\n",
      "dtypes: float64(3), int64(2)\n",
      "memory usage: 4.7 KB\n"
     ]
    }
   ],
   "source": [
    "#\n",
    "# this df.info() call will show the different features (columns), their types, and how many non-null there are\n",
    "#\n",
    "\n",
    "df.info()"
   ]
  },
  {
   "cell_type": "code",
   "execution_count": 29,
   "metadata": {},
   "outputs": [
    {
     "data": {
      "text/plain": [
       "Index(['Sensor', 'ID', 'Signal', 'Noise', 'Distance'], dtype='object')"
      ]
     },
     "execution_count": 29,
     "metadata": {},
     "output_type": "execute_result"
    }
   ],
   "source": [
    "COLUMNS = df.columns       # get column names\n",
    "\n",
    "df.columns = [\"Sensor\", \"ID\", \"Signal\", \"Noise\", \"Distance\"]\n",
    "\n",
    "df.columns"
   ]
  },
  {
   "cell_type": "code",
   "execution_count": 30,
   "metadata": {},
   "outputs": [],
   "source": [
    "df_clean = df.dropna()"
   ]
  },
  {
   "cell_type": "code",
   "execution_count": 31,
   "metadata": {},
   "outputs": [
    {
     "data": {
      "text/html": [
       "<div>\n",
       "<style scoped>\n",
       "    .dataframe tbody tr th:only-of-type {\n",
       "        vertical-align: middle;\n",
       "    }\n",
       "\n",
       "    .dataframe tbody tr th {\n",
       "        vertical-align: top;\n",
       "    }\n",
       "\n",
       "    .dataframe thead th {\n",
       "        text-align: right;\n",
       "    }\n",
       "</style>\n",
       "<table border=\"1\" class=\"dataframe\">\n",
       "  <thead>\n",
       "    <tr style=\"text-align: right;\">\n",
       "      <th></th>\n",
       "      <th>Sensor</th>\n",
       "      <th>ID</th>\n",
       "      <th>Signal</th>\n",
       "      <th>Noise</th>\n",
       "      <th>Distance</th>\n",
       "    </tr>\n",
       "  </thead>\n",
       "  <tbody>\n",
       "    <tr>\n",
       "      <th>0</th>\n",
       "      <td>457012</td>\n",
       "      <td>65477</td>\n",
       "      <td>82.0</td>\n",
       "      <td>26.5</td>\n",
       "      <td>1.000</td>\n",
       "    </tr>\n",
       "    <tr>\n",
       "      <th>1</th>\n",
       "      <td>457012</td>\n",
       "      <td>65477</td>\n",
       "      <td>82.0</td>\n",
       "      <td>26.5</td>\n",
       "      <td>1.000</td>\n",
       "    </tr>\n",
       "    <tr>\n",
       "      <th>2</th>\n",
       "      <td>457012</td>\n",
       "      <td>65477</td>\n",
       "      <td>82.5</td>\n",
       "      <td>26.5</td>\n",
       "      <td>1.000</td>\n",
       "    </tr>\n",
       "    <tr>\n",
       "      <th>3</th>\n",
       "      <td>457012</td>\n",
       "      <td>65477</td>\n",
       "      <td>82.0</td>\n",
       "      <td>26.5</td>\n",
       "      <td>1.000</td>\n",
       "    </tr>\n",
       "    <tr>\n",
       "      <th>4</th>\n",
       "      <td>457012</td>\n",
       "      <td>65477</td>\n",
       "      <td>82.0</td>\n",
       "      <td>26.5</td>\n",
       "      <td>1.000</td>\n",
       "    </tr>\n",
       "    <tr>\n",
       "      <th>...</th>\n",
       "      <td>...</td>\n",
       "      <td>...</td>\n",
       "      <td>...</td>\n",
       "      <td>...</td>\n",
       "      <td>...</td>\n",
       "    </tr>\n",
       "    <tr>\n",
       "      <th>111</th>\n",
       "      <td>457012</td>\n",
       "      <td>65478</td>\n",
       "      <td>82.0</td>\n",
       "      <td>25.0</td>\n",
       "      <td>4.918</td>\n",
       "    </tr>\n",
       "    <tr>\n",
       "      <th>112</th>\n",
       "      <td>457012</td>\n",
       "      <td>65478</td>\n",
       "      <td>82.0</td>\n",
       "      <td>24.5</td>\n",
       "      <td>4.918</td>\n",
       "    </tr>\n",
       "    <tr>\n",
       "      <th>113</th>\n",
       "      <td>457012</td>\n",
       "      <td>65478</td>\n",
       "      <td>82.5</td>\n",
       "      <td>24.5</td>\n",
       "      <td>4.918</td>\n",
       "    </tr>\n",
       "    <tr>\n",
       "      <th>114</th>\n",
       "      <td>457012</td>\n",
       "      <td>65478</td>\n",
       "      <td>82.0</td>\n",
       "      <td>24.5</td>\n",
       "      <td>4.918</td>\n",
       "    </tr>\n",
       "    <tr>\n",
       "      <th>115</th>\n",
       "      <td>457012</td>\n",
       "      <td>65478</td>\n",
       "      <td>82.0</td>\n",
       "      <td>24.5</td>\n",
       "      <td>4.918</td>\n",
       "    </tr>\n",
       "  </tbody>\n",
       "</table>\n",
       "<p>116 rows × 5 columns</p>\n",
       "</div>"
      ],
      "text/plain": [
       "     Sensor     ID  Signal  Noise  Distance\n",
       "0    457012  65477    82.0   26.5     1.000\n",
       "1    457012  65477    82.0   26.5     1.000\n",
       "2    457012  65477    82.5   26.5     1.000\n",
       "3    457012  65477    82.0   26.5     1.000\n",
       "4    457012  65477    82.0   26.5     1.000\n",
       "..      ...    ...     ...    ...       ...\n",
       "111  457012  65478    82.0   25.0     4.918\n",
       "112  457012  65478    82.0   24.5     4.918\n",
       "113  457012  65478    82.5   24.5     4.918\n",
       "114  457012  65478    82.0   24.5     4.918\n",
       "115  457012  65478    82.0   24.5     4.918\n",
       "\n",
       "[116 rows x 5 columns]"
      ]
     },
     "execution_count": 31,
     "metadata": {},
     "output_type": "execute_result"
    }
   ],
   "source": [
    "df_clean"
   ]
  },
  {
   "cell_type": "code",
   "execution_count": 32,
   "metadata": {},
   "outputs": [
    {
     "data": {
      "text/plain": [
       "(0.0, 5.2)"
      ]
     },
     "execution_count": 32,
     "metadata": {},
     "output_type": "execute_result"
    },
    {
     "data": {
      "image/png": "[encoded data removed]",
      "text/plain": [
       "<Figure size 430.35x360 with 1 Axes>"
      ]
     },
     "metadata": {},
     "output_type": "display_data"
    }
   ],
   "source": [
    "# Plot using Seaborn\n",
    "sns.lmplot(x='Distance', y='Signal', fit_reg=False, data=df_clean, hue='ID')\n",
    " \n",
    "# Tweak using Matplotlib\n",
    "plt.ylim(81.99, 82.01)\n",
    "plt.xlim(0, 5.2)"
   ]
  },
  {
   "cell_type": "code",
   "execution_count": 34,
   "metadata": {},
   "outputs": [
    {
     "data": {
      "text/plain": [
       "(0.0, 5.2)"
      ]
     },
     "execution_count": 34,
     "metadata": {},
     "output_type": "execute_result"
    },
    {
     "data": {
      "image/png": "[encoded data removed]",
      "text/plain": [
       "<Figure size 430.35x360 with 1 Axes>"
      ]
     },
     "metadata": {},
     "output_type": "display_data"
    }
   ],
   "source": [
    "# Plot using Seaborn\n",
    "sns.lmplot(x='Distance', y='Signal', fit_reg=False, data=df_clean, hue='ID')\n",
    " \n",
    "# Tweak using Matplotlib\n",
    "plt.ylim(82.499, 82.501)\n",
    "plt.xlim(0, 5.2)"
   ]
  },
  {
   "cell_type": "code",
   "execution_count": 35,
   "metadata": {},
   "outputs": [
    {
     "data": {
      "text/plain": [
       "(0.0, 5.2)"
      ]
     },
     "execution_count": 35,
     "metadata": {},
     "output_type": "execute_result"
    },
    {
     "data": {
      "image/png": "[encoded data removed]",
      "text/plain": [
       "<Figure size 430.35x360 with 1 Axes>"
      ]
     },
     "metadata": {},
     "output_type": "display_data"
    }
   ],
   "source": [
    "# Plot using Seaborn\n",
    "sns.lmplot(x='Distance', y='Noise', fit_reg = True, data=df_clean, hue='ID')\n",
    " \n",
    "# Tweak using Matplotlib\n",
    "plt.ylim(24, None)\n",
    "plt.xlim(0, 5.2)"
   ]
  },
  {
   "cell_type": "code",
   "execution_count": null,
   "metadata": {},
   "outputs": [],
   "source": [
    "# Plot using Seaborn\n",
    "sns.lmplot(x='Distance', y='Defense', data=df_clean, hue='ID')\n",
    " \n",
    "# Tweak using Matplotlib\n",
    "plt.ylim(0, None)\n",
    "plt.xlim(0, None)"
   ]
  },
  {
   "cell_type": "code",
   "execution_count": null,
   "metadata": {},
   "outputs": [],
   "source": [
    "# Plot using Seaborn\n",
    "sns.lmplot(x='Distance', y='Defense', data=df_clean, hue='ID')\n",
    " \n",
    "# Tweak using Matplotlib\n",
    "plt.ylim(0, None)\n",
    "plt.xlim(0, None)"
   ]
  },
  {
   "cell_type": "code",
   "execution_count": null,
   "metadata": {},
   "outputs": [],
   "source": [
    "# Plot using Seaborn\n",
    "sns.lmplot(x='Distance', y='Defense', data=df_clean, hue='ID')\n",
    " \n",
    "# Tweak using Matplotlib\n",
    "plt.ylim(0, None)\n",
    "plt.xlim(0, None)"
   ]
  },
  {
   "cell_type": "code",
   "execution_count": null,
   "metadata": {},
   "outputs": [],
   "source": [
    "# Plot using Seaborn\n",
    "sns.lmplot(x='Distance', y='Defense', data=df_clean, hue='ID')\n",
    " \n",
    "# Tweak using Matplotlib\n",
    "plt.ylim(0, None)\n",
    "plt.xlim(0, None)"
   ]
  }
 ],
 "metadata": {
  "kernelspec": {
   "display_name": "Python 3",
   "language": "python",
   "name": "python3"
  },
  "language_info": {
   "codemirror_mode": {
    "name": "ipython",
    "version": 3
   },
   "file_extension": ".py",
   "mimetype": "text/x-python",
   "name": "python",
   "nbconvert_exporter": "python",
   "pygments_lexer": "ipython3",
   "version": "3.7.6"
  }
 },
 "nbformat": 4,
 "nbformat_minor": 4
}
